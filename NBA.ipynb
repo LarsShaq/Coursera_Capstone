{
 "cells": [
  {
   "cell_type": "code",
   "execution_count": 1,
   "metadata": {
    "ExecuteTime": {
     "end_time": "2020-08-06T14:31:29.196548Z",
     "start_time": "2020-08-06T14:31:27.419298Z"
    }
   },
   "outputs": [
    {
     "name": "stdout",
     "output_type": "stream",
     "text": [
      "Requirement already satisfied: nba-api in /home/lars/anaconda3/lib/python3.7/site-packages (1.1.8)\n",
      "Requirement already satisfied: requests in /home/lars/anaconda3/lib/python3.7/site-packages (from nba-api) (2.22.0)\n",
      "Requirement already satisfied: urllib3!=1.25.0,!=1.25.1,<1.26,>=1.21.1 in /home/lars/anaconda3/lib/python3.7/site-packages (from requests->nba-api) (1.25.8)\n",
      "Requirement already satisfied: idna<2.9,>=2.5 in /home/lars/anaconda3/lib/python3.7/site-packages (from requests->nba-api) (2.8)\n",
      "Requirement already satisfied: certifi>=2017.4.17 in /home/lars/anaconda3/lib/python3.7/site-packages (from requests->nba-api) (2019.11.28)\n",
      "Requirement already satisfied: chardet<3.1.0,>=3.0.2 in /home/lars/anaconda3/lib/python3.7/site-packages (from requests->nba-api) (3.0.4)\n",
      "Note: you may need to restart the kernel to use updated packages.\n"
     ]
    }
   ],
   "source": [
    "pip install nba-api"
   ]
  },
  {
   "cell_type": "code",
   "execution_count": 2,
   "metadata": {
    "ExecuteTime": {
     "end_time": "2020-08-06T14:31:30.130154Z",
     "start_time": "2020-08-06T14:31:29.202182Z"
    }
   },
   "outputs": [],
   "source": [
    "import pandas as pd\n",
    "import numpy as np\n",
    "import matplotlib.pyplot as plt\n",
    "import seaborn as sns\n",
    "\n",
    "from scipy.stats import skew\n",
    "\n",
    "from nba_api.stats.static import teams, players\n",
    "from nba_api.stats.endpoints import commonteamroster, leaguestandings, teamyearbyyearstats,\\\n",
    "                                    teamdashboardbyyearoveryear,playercareerstats\n",
    "\n",
    "import matplotlib"
   ]
  },
  {
   "cell_type": "markdown",
   "metadata": {
    "ExecuteTime": {
     "end_time": "2020-07-28T09:58:28.531222Z",
     "start_time": "2020-07-28T09:58:28.527823Z"
    }
   },
   "source": [
    "## get all teams and their season stats"
   ]
  },
  {
   "cell_type": "code",
   "execution_count": 3,
   "metadata": {
    "ExecuteTime": {
     "end_time": "2020-08-06T14:31:50.333379Z",
     "start_time": "2020-08-06T14:31:30.132847Z"
    }
   },
   "outputs": [],
   "source": [
    "all_teams = teams.get_teams()\n",
    "team_stats = []\n",
    "for team in all_teams:\n",
    "    team_stats.append(teamyearbyyearstats.TeamYearByYearStats(team_id=team[\"id\"]).get_data_frames()[0])\n",
    "\n",
    "teams_df = pd.concat(team_stats)\n",
    "teams_df.head()\n",
    "teams_df_copy = teams_df.copy()"
   ]
  },
  {
   "cell_type": "code",
   "execution_count": 4,
   "metadata": {
    "ExecuteTime": {
     "end_time": "2020-08-06T14:31:50.364389Z",
     "start_time": "2020-08-06T14:31:50.335487Z"
    }
   },
   "outputs": [
    {
     "name": "stdout",
     "output_type": "stream",
     "text": [
      "Index(['TEAM_ID', 'TEAM_CITY', 'TEAM_NAME', 'YEAR', 'GP', 'WIN_PCT', 'PO_WINS',\n",
      "       'PO_LOSSES', 'NBA_FINALS_APPEARANCE', 'FGM', 'FGA', 'FG_PCT', 'FG3M',\n",
      "       'FG3A', 'FG3_PCT', 'FTM', 'FTA', 'FT_PCT', 'OREB', 'DREB', 'REB', 'AST',\n",
      "       'PF', 'STL', 'TOV', 'BLK', 'PTS', 'PTS_RANK'],\n",
      "      dtype='object')\n"
     ]
    },
    {
     "data": {
      "text/html": [
       "<div>\n",
       "<style scoped>\n",
       "    .dataframe tbody tr th:only-of-type {\n",
       "        vertical-align: middle;\n",
       "    }\n",
       "\n",
       "    .dataframe tbody tr th {\n",
       "        vertical-align: top;\n",
       "    }\n",
       "\n",
       "    .dataframe thead th {\n",
       "        text-align: right;\n",
       "    }\n",
       "</style>\n",
       "<table border=\"1\" class=\"dataframe\">\n",
       "  <thead>\n",
       "    <tr style=\"text-align: right;\">\n",
       "      <th></th>\n",
       "      <th>TEAM_ID</th>\n",
       "      <th>TEAM_CITY</th>\n",
       "      <th>TEAM_NAME</th>\n",
       "      <th>YEAR</th>\n",
       "      <th>GP</th>\n",
       "      <th>WIN_PCT</th>\n",
       "      <th>PO_WINS</th>\n",
       "      <th>PO_LOSSES</th>\n",
       "      <th>NBA_FINALS_APPEARANCE</th>\n",
       "      <th>FGM</th>\n",
       "      <th>...</th>\n",
       "      <th>OREB</th>\n",
       "      <th>DREB</th>\n",
       "      <th>REB</th>\n",
       "      <th>AST</th>\n",
       "      <th>PF</th>\n",
       "      <th>STL</th>\n",
       "      <th>TOV</th>\n",
       "      <th>BLK</th>\n",
       "      <th>PTS</th>\n",
       "      <th>PTS_RANK</th>\n",
       "    </tr>\n",
       "  </thead>\n",
       "  <tbody>\n",
       "    <tr>\n",
       "      <th>0</th>\n",
       "      <td>1610612737</td>\n",
       "      <td>Tri-Cities</td>\n",
       "      <td>Blackhawks</td>\n",
       "      <td>1949-50</td>\n",
       "      <td>64</td>\n",
       "      <td>0.453</td>\n",
       "      <td>1</td>\n",
       "      <td>2</td>\n",
       "      <td>N/A</td>\n",
       "      <td>1818</td>\n",
       "      <td>...</td>\n",
       "      <td>0</td>\n",
       "      <td>0</td>\n",
       "      <td>0</td>\n",
       "      <td>1330</td>\n",
       "      <td>2057</td>\n",
       "      <td>0</td>\n",
       "      <td>0</td>\n",
       "      <td>0</td>\n",
       "      <td>5313</td>\n",
       "      <td>10</td>\n",
       "    </tr>\n",
       "    <tr>\n",
       "      <th>1</th>\n",
       "      <td>1610612737</td>\n",
       "      <td>Tri-Cities</td>\n",
       "      <td>Blackhawks</td>\n",
       "      <td>1950-51</td>\n",
       "      <td>68</td>\n",
       "      <td>0.368</td>\n",
       "      <td>0</td>\n",
       "      <td>0</td>\n",
       "      <td>N/A</td>\n",
       "      <td>1988</td>\n",
       "      <td>...</td>\n",
       "      <td>0</td>\n",
       "      <td>0</td>\n",
       "      <td>0</td>\n",
       "      <td>1476</td>\n",
       "      <td>2092</td>\n",
       "      <td>0</td>\n",
       "      <td>0</td>\n",
       "      <td>0</td>\n",
       "      <td>5730</td>\n",
       "      <td>3</td>\n",
       "    </tr>\n",
       "    <tr>\n",
       "      <th>2</th>\n",
       "      <td>1610612737</td>\n",
       "      <td>Milwaukee</td>\n",
       "      <td>Hawks</td>\n",
       "      <td>1951-52</td>\n",
       "      <td>66</td>\n",
       "      <td>0.258</td>\n",
       "      <td>0</td>\n",
       "      <td>0</td>\n",
       "      <td>N/A</td>\n",
       "      <td>1674</td>\n",
       "      <td>...</td>\n",
       "      <td>0</td>\n",
       "      <td>0</td>\n",
       "      <td>0</td>\n",
       "      <td>1229</td>\n",
       "      <td>1848</td>\n",
       "      <td>0</td>\n",
       "      <td>0</td>\n",
       "      <td>0</td>\n",
       "      <td>4833</td>\n",
       "      <td>10</td>\n",
       "    </tr>\n",
       "    <tr>\n",
       "      <th>3</th>\n",
       "      <td>1610612737</td>\n",
       "      <td>Milwaukee</td>\n",
       "      <td>Hawks</td>\n",
       "      <td>1952-53</td>\n",
       "      <td>71</td>\n",
       "      <td>0.380</td>\n",
       "      <td>0</td>\n",
       "      <td>0</td>\n",
       "      <td>N/A</td>\n",
       "      <td>1873</td>\n",
       "      <td>...</td>\n",
       "      <td>0</td>\n",
       "      <td>0</td>\n",
       "      <td>0</td>\n",
       "      <td>1427</td>\n",
       "      <td>2120</td>\n",
       "      <td>0</td>\n",
       "      <td>0</td>\n",
       "      <td>0</td>\n",
       "      <td>5389</td>\n",
       "      <td>9</td>\n",
       "    </tr>\n",
       "    <tr>\n",
       "      <th>4</th>\n",
       "      <td>1610612737</td>\n",
       "      <td>Milwaukee</td>\n",
       "      <td>Hawks</td>\n",
       "      <td>1953-54</td>\n",
       "      <td>72</td>\n",
       "      <td>0.292</td>\n",
       "      <td>0</td>\n",
       "      <td>0</td>\n",
       "      <td>N/A</td>\n",
       "      <td>1757</td>\n",
       "      <td>...</td>\n",
       "      <td>0</td>\n",
       "      <td>0</td>\n",
       "      <td>0</td>\n",
       "      <td>1298</td>\n",
       "      <td>1771</td>\n",
       "      <td>0</td>\n",
       "      <td>0</td>\n",
       "      <td>0</td>\n",
       "      <td>5038</td>\n",
       "      <td>9</td>\n",
       "    </tr>\n",
       "  </tbody>\n",
       "</table>\n",
       "<p>5 rows × 28 columns</p>\n",
       "</div>"
      ],
      "text/plain": [
       "      TEAM_ID   TEAM_CITY   TEAM_NAME     YEAR  GP  WIN_PCT  PO_WINS  \\\n",
       "0  1610612737  Tri-Cities  Blackhawks  1949-50  64    0.453        1   \n",
       "1  1610612737  Tri-Cities  Blackhawks  1950-51  68    0.368        0   \n",
       "2  1610612737   Milwaukee       Hawks  1951-52  66    0.258        0   \n",
       "3  1610612737   Milwaukee       Hawks  1952-53  71    0.380        0   \n",
       "4  1610612737   Milwaukee       Hawks  1953-54  72    0.292        0   \n",
       "\n",
       "   PO_LOSSES NBA_FINALS_APPEARANCE   FGM  ...  OREB  DREB  REB   AST    PF  \\\n",
       "0          2                   N/A  1818  ...     0     0    0  1330  2057   \n",
       "1          0                   N/A  1988  ...     0     0    0  1476  2092   \n",
       "2          0                   N/A  1674  ...     0     0    0  1229  1848   \n",
       "3          0                   N/A  1873  ...     0     0    0  1427  2120   \n",
       "4          0                   N/A  1757  ...     0     0    0  1298  1771   \n",
       "\n",
       "   STL  TOV  BLK   PTS  PTS_RANK  \n",
       "0    0    0    0  5313        10  \n",
       "1    0    0    0  5730         3  \n",
       "2    0    0    0  4833        10  \n",
       "3    0    0    0  5389         9  \n",
       "4    0    0    0  5038         9  \n",
       "\n",
       "[5 rows x 28 columns]"
      ]
     },
     "execution_count": 4,
     "metadata": {},
     "output_type": "execute_result"
    }
   ],
   "source": [
    "# Remove some unneeded columns\n",
    "drop_columns = [\"CONF_RANK\", \"DIV_RANK\",\"WINS\", \"LOSSES\", \"CONF_COUNT\", \"DIV_COUNT\"]\n",
    "teams_df.drop(drop_columns, axis=1, inplace=True, errors=\"ignore\")\n",
    "print(teams_df.columns)\n",
    "teams_df.head()\n"
   ]
  },
  {
   "cell_type": "code",
   "execution_count": 5,
   "metadata": {
    "ExecuteTime": {
     "end_time": "2020-08-06T14:31:50.373430Z",
     "start_time": "2020-08-06T14:31:50.365910Z"
    }
   },
   "outputs": [
    {
     "name": "stdout",
     "output_type": "stream",
     "text": [
      "1981-82\n",
      "1972-73\n"
     ]
    }
   ],
   "source": [
    "# First time three point line\n",
    "print(teams_df[teams_df[\"FG3A\"]==0][\"YEAR\"].max())\n",
    "#First time further statistics as REB, TOV\n",
    "print(teams_df[teams_df[\"REB\"]==0][\"YEAR\"].max())"
   ]
  },
  {
   "cell_type": "code",
   "execution_count": 6,
   "metadata": {
    "ExecuteTime": {
     "end_time": "2020-08-06T14:31:50.432986Z",
     "start_time": "2020-08-06T14:31:50.376869Z"
    }
   },
   "outputs": [
    {
     "name": "stdout",
     "output_type": "stream",
     "text": [
      "Rows before/after: 1507/1043\n"
     ]
    },
    {
     "data": {
      "text/html": [
       "<div>\n",
       "<style scoped>\n",
       "    .dataframe tbody tr th:only-of-type {\n",
       "        vertical-align: middle;\n",
       "    }\n",
       "\n",
       "    .dataframe tbody tr th {\n",
       "        vertical-align: top;\n",
       "    }\n",
       "\n",
       "    .dataframe thead th {\n",
       "        text-align: right;\n",
       "    }\n",
       "</style>\n",
       "<table border=\"1\" class=\"dataframe\">\n",
       "  <thead>\n",
       "    <tr style=\"text-align: right;\">\n",
       "      <th></th>\n",
       "      <th>TEAM_ID</th>\n",
       "      <th>TEAM_CITY</th>\n",
       "      <th>TEAM_NAME</th>\n",
       "      <th>YEAR</th>\n",
       "      <th>GP</th>\n",
       "      <th>WIN_PCT</th>\n",
       "      <th>PO_WINS</th>\n",
       "      <th>PO_LOSSES</th>\n",
       "      <th>NBA_FINALS_APPEARANCE</th>\n",
       "      <th>FGM</th>\n",
       "      <th>...</th>\n",
       "      <th>OREB</th>\n",
       "      <th>DREB</th>\n",
       "      <th>REB</th>\n",
       "      <th>AST</th>\n",
       "      <th>PF</th>\n",
       "      <th>STL</th>\n",
       "      <th>TOV</th>\n",
       "      <th>BLK</th>\n",
       "      <th>PTS</th>\n",
       "      <th>PTS_RANK</th>\n",
       "    </tr>\n",
       "  </thead>\n",
       "  <tbody>\n",
       "    <tr>\n",
       "      <th>34</th>\n",
       "      <td>1610612737</td>\n",
       "      <td>Atlanta</td>\n",
       "      <td>Hawks</td>\n",
       "      <td>1983-84</td>\n",
       "      <td>82</td>\n",
       "      <td>0.488</td>\n",
       "      <td>2</td>\n",
       "      <td>3</td>\n",
       "      <td>0</td>\n",
       "      <td>3230</td>\n",
       "      <td>...</td>\n",
       "      <td>1112</td>\n",
       "      <td>2232</td>\n",
       "      <td>3344</td>\n",
       "      <td>1827</td>\n",
       "      <td>2091</td>\n",
       "      <td>626</td>\n",
       "      <td>1329</td>\n",
       "      <td>558</td>\n",
       "      <td>8321</td>\n",
       "      <td>23</td>\n",
       "    </tr>\n",
       "    <tr>\n",
       "      <th>35</th>\n",
       "      <td>1610612737</td>\n",
       "      <td>Atlanta</td>\n",
       "      <td>Hawks</td>\n",
       "      <td>1984-85</td>\n",
       "      <td>82</td>\n",
       "      <td>0.415</td>\n",
       "      <td>0</td>\n",
       "      <td>0</td>\n",
       "      <td>0</td>\n",
       "      <td>3444</td>\n",
       "      <td>...</td>\n",
       "      <td>1161</td>\n",
       "      <td>2345</td>\n",
       "      <td>3506</td>\n",
       "      <td>2009</td>\n",
       "      <td>2047</td>\n",
       "      <td>665</td>\n",
       "      <td>1475</td>\n",
       "      <td>541</td>\n",
       "      <td>8743</td>\n",
       "      <td>20</td>\n",
       "    </tr>\n",
       "    <tr>\n",
       "      <th>36</th>\n",
       "      <td>1610612737</td>\n",
       "      <td>Atlanta</td>\n",
       "      <td>Hawks</td>\n",
       "      <td>1985-86</td>\n",
       "      <td>82</td>\n",
       "      <td>0.610</td>\n",
       "      <td>4</td>\n",
       "      <td>5</td>\n",
       "      <td>0</td>\n",
       "      <td>3447</td>\n",
       "      <td>...</td>\n",
       "      <td>1249</td>\n",
       "      <td>2405</td>\n",
       "      <td>3654</td>\n",
       "      <td>2025</td>\n",
       "      <td>2170</td>\n",
       "      <td>736</td>\n",
       "      <td>1483</td>\n",
       "      <td>434</td>\n",
       "      <td>8906</td>\n",
       "      <td>17</td>\n",
       "    </tr>\n",
       "    <tr>\n",
       "      <th>37</th>\n",
       "      <td>1610612737</td>\n",
       "      <td>Atlanta</td>\n",
       "      <td>Hawks</td>\n",
       "      <td>1986-87</td>\n",
       "      <td>82</td>\n",
       "      <td>0.695</td>\n",
       "      <td>4</td>\n",
       "      <td>5</td>\n",
       "      <td>0</td>\n",
       "      <td>3435</td>\n",
       "      <td>...</td>\n",
       "      <td>1350</td>\n",
       "      <td>2478</td>\n",
       "      <td>3828</td>\n",
       "      <td>2077</td>\n",
       "      <td>2152</td>\n",
       "      <td>700</td>\n",
       "      <td>1279</td>\n",
       "      <td>511</td>\n",
       "      <td>9024</td>\n",
       "      <td>12</td>\n",
       "    </tr>\n",
       "    <tr>\n",
       "      <th>38</th>\n",
       "      <td>1610612737</td>\n",
       "      <td>Atlanta</td>\n",
       "      <td>Hawks</td>\n",
       "      <td>1987-88</td>\n",
       "      <td>82</td>\n",
       "      <td>0.610</td>\n",
       "      <td>6</td>\n",
       "      <td>6</td>\n",
       "      <td>0</td>\n",
       "      <td>3443</td>\n",
       "      <td>...</td>\n",
       "      <td>1228</td>\n",
       "      <td>2379</td>\n",
       "      <td>3607</td>\n",
       "      <td>2062</td>\n",
       "      <td>2050</td>\n",
       "      <td>635</td>\n",
       "      <td>1225</td>\n",
       "      <td>537</td>\n",
       "      <td>8844</td>\n",
       "      <td>13</td>\n",
       "    </tr>\n",
       "    <tr>\n",
       "      <th>...</th>\n",
       "      <td>...</td>\n",
       "      <td>...</td>\n",
       "      <td>...</td>\n",
       "      <td>...</td>\n",
       "      <td>...</td>\n",
       "      <td>...</td>\n",
       "      <td>...</td>\n",
       "      <td>...</td>\n",
       "      <td>...</td>\n",
       "      <td>...</td>\n",
       "      <td>...</td>\n",
       "      <td>...</td>\n",
       "      <td>...</td>\n",
       "      <td>...</td>\n",
       "      <td>...</td>\n",
       "      <td>...</td>\n",
       "      <td>...</td>\n",
       "      <td>...</td>\n",
       "      <td>...</td>\n",
       "      <td>...</td>\n",
       "      <td>...</td>\n",
       "    </tr>\n",
       "    <tr>\n",
       "      <th>25</th>\n",
       "      <td>1610612766</td>\n",
       "      <td>Charlotte</td>\n",
       "      <td>Hornets</td>\n",
       "      <td>2015-16</td>\n",
       "      <td>82</td>\n",
       "      <td>0.585</td>\n",
       "      <td>3</td>\n",
       "      <td>4</td>\n",
       "      <td>0</td>\n",
       "      <td>3036</td>\n",
       "      <td>...</td>\n",
       "      <td>734</td>\n",
       "      <td>2869</td>\n",
       "      <td>3603</td>\n",
       "      <td>1778</td>\n",
       "      <td>1487</td>\n",
       "      <td>595</td>\n",
       "      <td>1029</td>\n",
       "      <td>438</td>\n",
       "      <td>8479</td>\n",
       "      <td>11</td>\n",
       "    </tr>\n",
       "    <tr>\n",
       "      <th>26</th>\n",
       "      <td>1610612766</td>\n",
       "      <td>Charlotte</td>\n",
       "      <td>Hornets</td>\n",
       "      <td>2016-17</td>\n",
       "      <td>82</td>\n",
       "      <td>0.439</td>\n",
       "      <td>0</td>\n",
       "      <td>0</td>\n",
       "      <td>0</td>\n",
       "      <td>3093</td>\n",
       "      <td>...</td>\n",
       "      <td>721</td>\n",
       "      <td>2853</td>\n",
       "      <td>3574</td>\n",
       "      <td>1891</td>\n",
       "      <td>1360</td>\n",
       "      <td>571</td>\n",
       "      <td>942</td>\n",
       "      <td>390</td>\n",
       "      <td>8601</td>\n",
       "      <td>16</td>\n",
       "    </tr>\n",
       "    <tr>\n",
       "      <th>27</th>\n",
       "      <td>1610612766</td>\n",
       "      <td>Charlotte</td>\n",
       "      <td>Hornets</td>\n",
       "      <td>2017-18</td>\n",
       "      <td>82</td>\n",
       "      <td>0.439</td>\n",
       "      <td>0</td>\n",
       "      <td>0</td>\n",
       "      <td>0</td>\n",
       "      <td>3197</td>\n",
       "      <td>...</td>\n",
       "      <td>827</td>\n",
       "      <td>2901</td>\n",
       "      <td>3728</td>\n",
       "      <td>1770</td>\n",
       "      <td>1409</td>\n",
       "      <td>559</td>\n",
       "      <td>1041</td>\n",
       "      <td>373</td>\n",
       "      <td>8874</td>\n",
       "      <td>10</td>\n",
       "    </tr>\n",
       "    <tr>\n",
       "      <th>28</th>\n",
       "      <td>1610612766</td>\n",
       "      <td>Charlotte</td>\n",
       "      <td>Hornets</td>\n",
       "      <td>2018-19</td>\n",
       "      <td>82</td>\n",
       "      <td>0.476</td>\n",
       "      <td>0</td>\n",
       "      <td>0</td>\n",
       "      <td>0</td>\n",
       "      <td>3297</td>\n",
       "      <td>...</td>\n",
       "      <td>814</td>\n",
       "      <td>2778</td>\n",
       "      <td>3592</td>\n",
       "      <td>1905</td>\n",
       "      <td>1550</td>\n",
       "      <td>591</td>\n",
       "      <td>1001</td>\n",
       "      <td>405</td>\n",
       "      <td>9081</td>\n",
       "      <td>19</td>\n",
       "    </tr>\n",
       "    <tr>\n",
       "      <th>29</th>\n",
       "      <td>1610612766</td>\n",
       "      <td>Charlotte</td>\n",
       "      <td>Hornets</td>\n",
       "      <td>2019-20</td>\n",
       "      <td>65</td>\n",
       "      <td>0.354</td>\n",
       "      <td>0</td>\n",
       "      <td>0</td>\n",
       "      <td>0</td>\n",
       "      <td>2425</td>\n",
       "      <td>...</td>\n",
       "      <td>715</td>\n",
       "      <td>2066</td>\n",
       "      <td>2781</td>\n",
       "      <td>1549</td>\n",
       "      <td>1223</td>\n",
       "      <td>428</td>\n",
       "      <td>949</td>\n",
       "      <td>268</td>\n",
       "      <td>6687</td>\n",
       "      <td>30</td>\n",
       "    </tr>\n",
       "  </tbody>\n",
       "</table>\n",
       "<p>1043 rows × 28 columns</p>\n",
       "</div>"
      ],
      "text/plain": [
       "       TEAM_ID  TEAM_CITY TEAM_NAME     YEAR  GP  WIN_PCT  PO_WINS  PO_LOSSES  \\\n",
       "34  1610612737    Atlanta     Hawks  1983-84  82    0.488        2          3   \n",
       "35  1610612737    Atlanta     Hawks  1984-85  82    0.415        0          0   \n",
       "36  1610612737    Atlanta     Hawks  1985-86  82    0.610        4          5   \n",
       "37  1610612737    Atlanta     Hawks  1986-87  82    0.695        4          5   \n",
       "38  1610612737    Atlanta     Hawks  1987-88  82    0.610        6          6   \n",
       "..         ...        ...       ...      ...  ..      ...      ...        ...   \n",
       "25  1610612766  Charlotte   Hornets  2015-16  82    0.585        3          4   \n",
       "26  1610612766  Charlotte   Hornets  2016-17  82    0.439        0          0   \n",
       "27  1610612766  Charlotte   Hornets  2017-18  82    0.439        0          0   \n",
       "28  1610612766  Charlotte   Hornets  2018-19  82    0.476        0          0   \n",
       "29  1610612766  Charlotte   Hornets  2019-20  65    0.354        0          0   \n",
       "\n",
       "   NBA_FINALS_APPEARANCE   FGM  ...  OREB  DREB   REB   AST    PF  STL   TOV  \\\n",
       "34                     0  3230  ...  1112  2232  3344  1827  2091  626  1329   \n",
       "35                     0  3444  ...  1161  2345  3506  2009  2047  665  1475   \n",
       "36                     0  3447  ...  1249  2405  3654  2025  2170  736  1483   \n",
       "37                     0  3435  ...  1350  2478  3828  2077  2152  700  1279   \n",
       "38                     0  3443  ...  1228  2379  3607  2062  2050  635  1225   \n",
       "..                   ...   ...  ...   ...   ...   ...   ...   ...  ...   ...   \n",
       "25                     0  3036  ...   734  2869  3603  1778  1487  595  1029   \n",
       "26                     0  3093  ...   721  2853  3574  1891  1360  571   942   \n",
       "27                     0  3197  ...   827  2901  3728  1770  1409  559  1041   \n",
       "28                     0  3297  ...   814  2778  3592  1905  1550  591  1001   \n",
       "29                     0  2425  ...   715  2066  2781  1549  1223  428   949   \n",
       "\n",
       "    BLK   PTS  PTS_RANK  \n",
       "34  558  8321        23  \n",
       "35  541  8743        20  \n",
       "36  434  8906        17  \n",
       "37  511  9024        12  \n",
       "38  537  8844        13  \n",
       "..  ...   ...       ...  \n",
       "25  438  8479        11  \n",
       "26  390  8601        16  \n",
       "27  373  8874        10  \n",
       "28  405  9081        19  \n",
       "29  268  6687        30  \n",
       "\n",
       "[1043 rows x 28 columns]"
      ]
     },
     "execution_count": 6,
     "metadata": {},
     "output_type": "execute_result"
    }
   ],
   "source": [
    "# How many entries would fall if only consider after 1981-82 season\n",
    "new_teams_df = teams_df[teams_df[\"YEAR\"]>\"1982-83\"].copy()\n",
    "print(\"Rows before/after: {}/{}\".format(len(teams_df), len(new_teams_df)))\n",
    "\n",
    "# Fill nba finals appearance with 0 where N/A\n",
    "new_teams_df.loc[new_teams_df[\"NBA_FINALS_APPEARANCE\"]==\"N/A\",\"NBA_FINALS_APPEARANCE\"] = 0\n",
    "\n",
    "new_teams_df"
   ]
  },
  {
   "cell_type": "code",
   "execution_count": 7,
   "metadata": {
    "ExecuteTime": {
     "end_time": "2020-08-06T14:31:50.444345Z",
     "start_time": "2020-08-06T14:31:50.434744Z"
    }
   },
   "outputs": [],
   "source": [
    "def to_previous_year(year):\n",
    "    if year[5:7]!=\"00\": \n",
    "        prev_year = str(int(year[0:4])+-1).zfill(2)+\"-\"+str(int(year[5:7])-1).zfill(2)\n",
    "    else: \n",
    "        prev_year = str(int(year[0:4])+-1).zfill(2)+\"-99\"\n",
    "    return prev_year"
   ]
  },
  {
   "cell_type": "code",
   "execution_count": 8,
   "metadata": {
    "ExecuteTime": {
     "end_time": "2020-08-06T14:31:50.542382Z",
     "start_time": "2020-08-06T14:31:50.446807Z"
    }
   },
   "outputs": [
    {
     "name": "stdout",
     "output_type": "stream",
     "text": [
      "TEAM_ID                  0\n",
      "TEAM_CITY                0\n",
      "TEAM_NAME                0\n",
      "YEAR                     0\n",
      "WIN_PCT                  0\n",
      "GP                       0\n",
      "PREV_YEAR                0\n",
      "PREV_WIN_PCT             8\n",
      "PO_WINS                  8\n",
      "PO_LOSSES                8\n",
      "NBA_FINALS_APPEARANCE    8\n",
      "FGM                      8\n",
      "FGA                      8\n",
      "FG_PCT                   8\n",
      "FG3M                     8\n",
      "FG3A                     8\n",
      "FG3_PCT                  8\n",
      "FTM                      8\n",
      "FTA                      8\n",
      "FT_PCT                   8\n",
      "OREB                     8\n",
      "DREB                     8\n",
      "REB                      8\n",
      "AST                      8\n",
      "PF                       8\n",
      "STL                      8\n",
      "TOV                      8\n",
      "BLK                      8\n",
      "PTS                      8\n",
      "PTS_RANK                 8\n",
      "dtype: int64\n"
     ]
    },
    {
     "data": {
      "text/html": [
       "<div>\n",
       "<style scoped>\n",
       "    .dataframe tbody tr th:only-of-type {\n",
       "        vertical-align: middle;\n",
       "    }\n",
       "\n",
       "    .dataframe tbody tr th {\n",
       "        vertical-align: top;\n",
       "    }\n",
       "\n",
       "    .dataframe thead th {\n",
       "        text-align: right;\n",
       "    }\n",
       "</style>\n",
       "<table border=\"1\" class=\"dataframe\">\n",
       "  <thead>\n",
       "    <tr style=\"text-align: right;\">\n",
       "      <th></th>\n",
       "      <th>TEAM_ID</th>\n",
       "      <th>TEAM_CITY</th>\n",
       "      <th>TEAM_NAME</th>\n",
       "      <th>YEAR</th>\n",
       "      <th>WIN_PCT</th>\n",
       "      <th>GP</th>\n",
       "      <th>PREV_YEAR</th>\n",
       "      <th>PREV_WIN_PCT</th>\n",
       "      <th>PO_WINS</th>\n",
       "      <th>PO_LOSSES</th>\n",
       "      <th>...</th>\n",
       "      <th>REB</th>\n",
       "      <th>AST</th>\n",
       "      <th>PF</th>\n",
       "      <th>STL</th>\n",
       "      <th>TOV</th>\n",
       "      <th>BLK</th>\n",
       "      <th>PTS</th>\n",
       "      <th>PTS_RANK</th>\n",
       "      <th>WON</th>\n",
       "      <th>PO_GAMES</th>\n",
       "    </tr>\n",
       "  </thead>\n",
       "  <tbody>\n",
       "    <tr>\n",
       "      <th>1</th>\n",
       "      <td>1610612737</td>\n",
       "      <td>Atlanta</td>\n",
       "      <td>Hawks</td>\n",
       "      <td>1984-85</td>\n",
       "      <td>0.415</td>\n",
       "      <td>82</td>\n",
       "      <td>1983-84</td>\n",
       "      <td>0.488</td>\n",
       "      <td>2.0</td>\n",
       "      <td>3.0</td>\n",
       "      <td>...</td>\n",
       "      <td>3344.0</td>\n",
       "      <td>1827.0</td>\n",
       "      <td>2091.0</td>\n",
       "      <td>626.0</td>\n",
       "      <td>1329.0</td>\n",
       "      <td>558.0</td>\n",
       "      <td>8321.0</td>\n",
       "      <td>23.0</td>\n",
       "      <td>0</td>\n",
       "      <td>5.0</td>\n",
       "    </tr>\n",
       "    <tr>\n",
       "      <th>2</th>\n",
       "      <td>1610612737</td>\n",
       "      <td>Atlanta</td>\n",
       "      <td>Hawks</td>\n",
       "      <td>1985-86</td>\n",
       "      <td>0.610</td>\n",
       "      <td>82</td>\n",
       "      <td>1984-85</td>\n",
       "      <td>0.415</td>\n",
       "      <td>0.0</td>\n",
       "      <td>0.0</td>\n",
       "      <td>...</td>\n",
       "      <td>3506.0</td>\n",
       "      <td>2009.0</td>\n",
       "      <td>2047.0</td>\n",
       "      <td>665.0</td>\n",
       "      <td>1475.0</td>\n",
       "      <td>541.0</td>\n",
       "      <td>8743.0</td>\n",
       "      <td>20.0</td>\n",
       "      <td>0</td>\n",
       "      <td>0.0</td>\n",
       "    </tr>\n",
       "    <tr>\n",
       "      <th>3</th>\n",
       "      <td>1610612737</td>\n",
       "      <td>Atlanta</td>\n",
       "      <td>Hawks</td>\n",
       "      <td>1986-87</td>\n",
       "      <td>0.695</td>\n",
       "      <td>82</td>\n",
       "      <td>1985-86</td>\n",
       "      <td>0.610</td>\n",
       "      <td>4.0</td>\n",
       "      <td>5.0</td>\n",
       "      <td>...</td>\n",
       "      <td>3654.0</td>\n",
       "      <td>2025.0</td>\n",
       "      <td>2170.0</td>\n",
       "      <td>736.0</td>\n",
       "      <td>1483.0</td>\n",
       "      <td>434.0</td>\n",
       "      <td>8906.0</td>\n",
       "      <td>17.0</td>\n",
       "      <td>0</td>\n",
       "      <td>9.0</td>\n",
       "    </tr>\n",
       "    <tr>\n",
       "      <th>4</th>\n",
       "      <td>1610612737</td>\n",
       "      <td>Atlanta</td>\n",
       "      <td>Hawks</td>\n",
       "      <td>1987-88</td>\n",
       "      <td>0.610</td>\n",
       "      <td>82</td>\n",
       "      <td>1986-87</td>\n",
       "      <td>0.695</td>\n",
       "      <td>4.0</td>\n",
       "      <td>5.0</td>\n",
       "      <td>...</td>\n",
       "      <td>3828.0</td>\n",
       "      <td>2077.0</td>\n",
       "      <td>2152.0</td>\n",
       "      <td>700.0</td>\n",
       "      <td>1279.0</td>\n",
       "      <td>511.0</td>\n",
       "      <td>9024.0</td>\n",
       "      <td>12.0</td>\n",
       "      <td>0</td>\n",
       "      <td>9.0</td>\n",
       "    </tr>\n",
       "    <tr>\n",
       "      <th>5</th>\n",
       "      <td>1610612737</td>\n",
       "      <td>Atlanta</td>\n",
       "      <td>Hawks</td>\n",
       "      <td>1988-89</td>\n",
       "      <td>0.634</td>\n",
       "      <td>82</td>\n",
       "      <td>1987-88</td>\n",
       "      <td>0.610</td>\n",
       "      <td>6.0</td>\n",
       "      <td>6.0</td>\n",
       "      <td>...</td>\n",
       "      <td>3607.0</td>\n",
       "      <td>2062.0</td>\n",
       "      <td>2050.0</td>\n",
       "      <td>635.0</td>\n",
       "      <td>1225.0</td>\n",
       "      <td>537.0</td>\n",
       "      <td>8844.0</td>\n",
       "      <td>13.0</td>\n",
       "      <td>0</td>\n",
       "      <td>12.0</td>\n",
       "    </tr>\n",
       "  </tbody>\n",
       "</table>\n",
       "<p>5 rows × 32 columns</p>\n",
       "</div>"
      ],
      "text/plain": [
       "      TEAM_ID TEAM_CITY TEAM_NAME     YEAR  WIN_PCT  GP PREV_YEAR  \\\n",
       "1  1610612737   Atlanta     Hawks  1984-85    0.415  82   1983-84   \n",
       "2  1610612737   Atlanta     Hawks  1985-86    0.610  82   1984-85   \n",
       "3  1610612737   Atlanta     Hawks  1986-87    0.695  82   1985-86   \n",
       "4  1610612737   Atlanta     Hawks  1987-88    0.610  82   1986-87   \n",
       "5  1610612737   Atlanta     Hawks  1988-89    0.634  82   1987-88   \n",
       "\n",
       "   PREV_WIN_PCT  PO_WINS  PO_LOSSES  ...     REB     AST      PF    STL  \\\n",
       "1         0.488      2.0        3.0  ...  3344.0  1827.0  2091.0  626.0   \n",
       "2         0.415      0.0        0.0  ...  3506.0  2009.0  2047.0  665.0   \n",
       "3         0.610      4.0        5.0  ...  3654.0  2025.0  2170.0  736.0   \n",
       "4         0.695      4.0        5.0  ...  3828.0  2077.0  2152.0  700.0   \n",
       "5         0.610      6.0        6.0  ...  3607.0  2062.0  2050.0  635.0   \n",
       "\n",
       "      TOV    BLK     PTS  PTS_RANK  WON  PO_GAMES  \n",
       "1  1329.0  558.0  8321.0      23.0    0       5.0  \n",
       "2  1475.0  541.0  8743.0      20.0    0       0.0  \n",
       "3  1483.0  434.0  8906.0      17.0    0       9.0  \n",
       "4  1279.0  511.0  9024.0      12.0    0       9.0  \n",
       "5  1225.0  537.0  8844.0      13.0    0      12.0  \n",
       "\n",
       "[5 rows x 32 columns]"
      ]
     },
     "execution_count": 8,
     "metadata": {},
     "output_type": "execute_result"
    }
   ],
   "source": [
    "# Create a new dataframe where the WIN_PCT and YEAR are togehter with the stats from the previous year\n",
    "keep_columns = [\"TEAM_ID\",\"TEAM_CITY\", \"TEAM_NAME\",\"YEAR\",\"WIN_PCT\", \"GP\"]\n",
    "before_season_df = new_teams_df[keep_columns].copy()\n",
    "before_season_df[\"PREV_YEAR\"] = before_season_df[\"YEAR\"].apply(lambda x: to_previous_year(x))\n",
    "before_season_df = pd.merge(before_season_df,new_teams_df, left_on=[\"PREV_YEAR\", \"TEAM_ID\"], \\\n",
    "                            right_on=[\"YEAR\",\"TEAM_ID\"], how=\"left\")\n",
    "# Remove duplicate values from merge, besides WIN_PCT, the one from the previous year can be strong predictor\n",
    "drop_columns= [x+\"_y\" for x in keep_columns if x!=\"TEAM_ID\" and x!=\"WIN_PCT\"]\n",
    "before_season_df.drop(drop_columns, axis=1, inplace=True)\n",
    "before_season_df.rename(columns={\"TEAM_CITY_x\":\"TEAM_CITY\", \"TEAM_NAME_x\":\"TEAM_NAME\",\"YEAR_x\":\"YEAR\",\\\n",
    "                                 \"WIN_PCT_x\":\"WIN_PCT\",\"GP_x\":\"GP\", \"WIN_PCT_y\":\"PREV_WIN_PCT\"}, inplace=True)\n",
    "before_season_df = before_season_df[before_season_df[\"YEAR\"]>\"1983-84\"]\n",
    "\n",
    "print(before_season_df.isna().sum())\n",
    "\n",
    "# Drop 8 columns where NaN\n",
    "before_season_df.dropna(axis=0, inplace=True)\n",
    "\n",
    "# Divide Final Appearance into appered/won variable\n",
    "before_season_df[\"WON\"] = before_season_df[\"NBA_FINALS_APPEARANCE\"]\n",
    "before_season_df.loc[before_season_df[\"NBA_FINALS_APPEARANCE\"]==\"LEAGUE CHAMPION\",\"NBA_FINALS_APPEARANCE\"] = 1\n",
    "before_season_df.loc[before_season_df[\"NBA_FINALS_APPEARANCE\"]==\"FINALS APPEARANCE\",\"NBA_FINALS_APPEARANCE\"] = 1\n",
    "before_season_df.loc[before_season_df[\"WON\"]==\"LEAGUE CHAMPION\",\"WON\"] = 1\n",
    "before_season_df.loc[before_season_df[\"WON\"]==\"FINALS APPEARANCE\",\"WON\"] = 0\n",
    "before_season_df = before_season_df.astype({\"NBA_FINALS_APPEARANCE\":int, \"WON\":int})\n",
    "\n",
    "# Add column for playoff games played\n",
    "before_season_df[\"PO_GAMES\"] = before_season_df[\"PO_WINS\"]+before_season_df[\"PO_LOSSES\"]\n",
    "\n",
    "before_season_df.head()\n"
   ]
  },
  {
   "cell_type": "code",
   "execution_count": 9,
   "metadata": {
    "ExecuteTime": {
     "end_time": "2020-08-06T14:31:50.552666Z",
     "start_time": "2020-08-06T14:31:50.544445Z"
    }
   },
   "outputs": [],
   "source": [
    "# Exlude the 2019/2020 season because thats what really interests us.\n",
    "season_2019_df = before_season_df[before_season_df[\"YEAR\"]==\"2019-20\"]\n",
    "before_season_df = before_season_df[before_season_df[\"YEAR\"]!=\"2019-20\"]"
   ]
  },
  {
   "cell_type": "markdown",
   "metadata": {
    "ExecuteTime": {
     "end_time": "2020-07-29T08:57:44.662356Z",
     "start_time": "2020-07-29T08:57:44.659541Z"
    }
   },
   "source": [
    "## Data Exploration"
   ]
  },
  {
   "cell_type": "code",
   "execution_count": 10,
   "metadata": {
    "ExecuteTime": {
     "end_time": "2020-08-06T14:31:51.083736Z",
     "start_time": "2020-08-06T14:31:50.554423Z"
    }
   },
   "outputs": [
    {
     "data": {
      "image/png": "[encoded data removed]",
      "text/plain": [
       "<Figure size 432x288 with 2 Axes>"
      ]
     },
     "metadata": {
      "needs_background": "light"
     },
     "output_type": "display_data"
    }
   ],
   "source": [
    "features = ['GP','PO_WINS', 'PO_LOSSES', \"PO_GAMES\",'NBA_FINALS_APPEARANCE', \"WON\",'FGM',\n",
    "       'FGA', 'FG_PCT', 'FG3M', 'FG3A', 'FG3_PCT', 'FTM', 'FTA', 'FT_PCT',\n",
    "       'OREB', 'DREB', 'REB', 'AST', 'PF', 'STL', 'TOV', 'BLK', 'PTS',\n",
    "       'PTS_RANK',\"PREV_WIN_PCT\",'WIN_PCT']\n",
    "%matplotlib inline\n",
    "# calculate the correlation matrix\n",
    "corr = before_season_df[features].corr()\n",
    "\n",
    "# plot the heatmap\n",
    "sns.heatmap(corr, \n",
    "        xticklabels=corr.columns,\n",
    "        yticklabels=corr.columns)\n",
    "plt.show()"
   ]
  },
  {
   "cell_type": "markdown",
   "metadata": {
    "ExecuteTime": {
     "end_time": "2020-07-29T09:07:31.563369Z",
     "start_time": "2020-07-29T09:07:31.552316Z"
    }
   },
   "source": [
    "Intersting observations: \n",
    "    - Higghest Correlation seems to be with Playoff games played\n",
    "    - Good pts rank hihg correlation\n",
    "    - Free throws and 3pt negatively correlated"
   ]
  },
  {
   "cell_type": "code",
   "execution_count": 11,
   "metadata": {
    "ExecuteTime": {
     "end_time": "2020-08-06T14:31:51.455232Z",
     "start_time": "2020-08-06T14:31:51.085361Z"
    }
   },
   "outputs": [
    {
     "data": {
      "text/plain": [
       "<matplotlib.axes._subplots.AxesSubplot at 0x7fd2a1818590>"
      ]
     },
     "execution_count": 11,
     "metadata": {},
     "output_type": "execute_result"
    },
    {
     "data": {
      "image/png": "[encoded data removed]",
      "text/plain": [
       "<Figure size 432x288 with 1 Axes>"
      ]
     },
     "metadata": {
      "needs_background": "light"
     },
     "output_type": "display_data"
    }
   ],
   "source": [
    "sns.regplot(before_season_df[\"PREV_WIN_PCT\"], before_season_df[\"WIN_PCT\"])"
   ]
  },
  {
   "cell_type": "markdown",
   "metadata": {
    "ExecuteTime": {
     "end_time": "2020-07-29T09:08:53.522330Z",
     "start_time": "2020-07-29T09:08:53.519431Z"
    }
   },
   "source": [
    "## First Simple baseline model"
   ]
  },
  {
   "cell_type": "code",
   "execution_count": 12,
   "metadata": {
    "ExecuteTime": {
     "end_time": "2020-08-06T14:31:51.553886Z",
     "start_time": "2020-08-06T14:31:51.456827Z"
    }
   },
   "outputs": [],
   "source": [
    "from sklearn.model_selection import cross_val_score\n",
    "from sklearn.linear_model import LinearRegression,Ridge, Lasso\n",
    "from sklearn.preprocessing import RobustScaler\n",
    "from sklearn.pipeline import make_pipeline"
   ]
  },
  {
   "cell_type": "code",
   "execution_count": 13,
   "metadata": {
    "ExecuteTime": {
     "end_time": "2020-08-06T14:31:51.583857Z",
     "start_time": "2020-08-06T14:31:51.555751Z"
    }
   },
   "outputs": [
    {
     "name": "stdout",
     "output_type": "stream",
     "text": [
      "RMSE Linear Regression:  0.115\n"
     ]
    }
   ],
   "source": [
    "# Check what a model which only predicts using the previous year win_pct would do\n",
    "features = [\"PREV_WIN_PCT\"]\n",
    "X = before_season_df[features]\n",
    "Y = before_season_df[\"WIN_PCT\"]\n",
    "\n",
    "def cv(model):\n",
    "    return np.sqrt(-cross_val_score(model, X, Y, scoring=\"neg_mean_squared_error\", cv=5))\n",
    "\n",
    "# Simple Linear Regression\n",
    "#lr = make_pipeline(RobustScaler(), LinearRegression())\n",
    "lr = LinearRegression()\n",
    "scores = np.sqrt(-cross_val_score(lr, X, Y, scoring=\"neg_mean_squared_error\", cv=5))\n",
    "lr.fit(X,Y)\n",
    "print(\"RMSE Linear Regression: \", round(scores.mean(),3))"
   ]
  },
  {
   "cell_type": "code",
   "execution_count": 14,
   "metadata": {
    "ExecuteTime": {
     "end_time": "2020-08-06T14:31:51.618697Z",
     "start_time": "2020-08-06T14:31:51.585258Z"
    }
   },
   "outputs": [
    {
     "name": "stdout",
     "output_type": "stream",
     "text": [
      "RMSE Linear Regression:  0.115\n"
     ]
    }
   ],
   "source": [
    "features = ['GP','PO_GAMES', 'NBA_FINALS_APPEARANCE', \"WON\",'FGM',\n",
    "       'FGA', 'FG_PCT', 'FG3M', 'FG3A', 'FG3_PCT', 'FTM', 'FTA', 'FT_PCT',\n",
    "       'OREB', 'DREB', 'REB', 'AST', 'PF', 'STL', 'TOV', 'BLK', 'PTS',\n",
    "       'PTS_RANK', \"PREV_WIN_PCT\"]\n",
    "X = before_season_df[features]\n",
    "Y = before_season_df[\"WIN_PCT\"]\n",
    "\n",
    "def cv(model):\n",
    "    return np.sqrt(-cross_val_score(model, X, Y, scoring=\"neg_mean_squared_error\", cv=5))\n",
    "\n",
    "# Simple Linear Regression\n",
    "#lr = make_pipeline(RobustScaler(), LinearRegression())\n",
    "lr = LinearRegression()\n",
    "scores = np.sqrt(-cross_val_score(lr, X, Y, scoring=\"neg_mean_squared_error\", cv=5))\n",
    "lr.fit(X,Y)\n",
    "print(\"RMSE Linear Regression: \", round(scores.mean(),3))"
   ]
  },
  {
   "cell_type": "code",
   "execution_count": 15,
   "metadata": {
    "ExecuteTime": {
     "end_time": "2020-08-06T14:31:52.331918Z",
     "start_time": "2020-08-06T14:31:51.620300Z"
    }
   },
   "outputs": [
    {
     "name": "stdout",
     "output_type": "stream",
     "text": [
      "Min value: 0.11506216354581796\n"
     ]
    },
    {
     "data": {
      "image/png": "[encoded data removed]",
      "text/plain": [
       "<Figure size 432x288 with 1 Axes>"
      ]
     },
     "metadata": {
      "needs_background": "light"
     },
     "output_type": "display_data"
    }
   ],
   "source": [
    "alphas = [0.01,0.1, 0.4,0.8,1.0,2.0,5.0,10.0,15.0]\n",
    "cv_ridge = [cv(make_pipeline(RobustScaler(), Ridge(alpha))).mean() for alpha in alphas]\n",
    "print(\"Min value: {}\".format(min(cv_ridge)))\n",
    "cv_ridge = pd.Series(cv_ridge, index = alphas)\n",
    "cv_ridge.plot(title = \"Validation\")\n",
    "plt.xlabel(\"alpha\")\n",
    "plt.ylabel(\"rmse\")\n",
    "plt.show()\n"
   ]
  },
  {
   "cell_type": "code",
   "execution_count": 16,
   "metadata": {
    "ExecuteTime": {
     "end_time": "2020-08-06T14:31:52.925155Z",
     "start_time": "2020-08-06T14:31:52.333521Z"
    }
   },
   "outputs": [
    {
     "name": "stderr",
     "output_type": "stream",
     "text": [
      "/home/lars/anaconda3/lib/python3.7/site-packages/sklearn/linear_model/_coordinate_descent.py:476: ConvergenceWarning: Objective did not converge. You might want to increase the number of iterations. Duality gap: 0.023593835287258003, tolerance: 0.0018501454242038215\n",
      "  positive)\n"
     ]
    },
    {
     "name": "stdout",
     "output_type": "stream",
     "text": [
      "Min value: 0.11497961410036346\n"
     ]
    },
    {
     "data": {
      "image/png": "[encoded data removed]",
      "text/plain": [
       "<Figure size 432x288 with 1 Axes>"
      ]
     },
     "metadata": {
      "needs_background": "light"
     },
     "output_type": "display_data"
    },
    {
     "name": "stdout",
     "output_type": "stream",
     "text": [
      "Lasso picked 17 variables and eliminated the other 7 variables\n"
     ]
    }
   ],
   "source": [
    "alphas = [0.0008,0.0005, 0.0003,0.0001]\n",
    "cv_ridge = [cv(make_pipeline(RobustScaler(), Lasso(alpha))).mean() for alpha in alphas]\n",
    "print(\"Min value: {}\".format(min(cv_ridge)))\n",
    "cv_ridge = pd.Series(cv_ridge, index = alphas)\n",
    "cv_ridge.plot(title = \"Validation\")\n",
    "plt.xlabel(\"alpha\")\n",
    "plt.ylabel(\"rmse\")\n",
    "plt.show()\n",
    "\n",
    "lasso = make_pipeline(RobustScaler(), Lasso(0.0005))\n",
    "lasso.fit(X,Y)\n",
    "lasso[1].coef_\n",
    "\n",
    "coef = pd.Series(lasso[1].coef_, index = X.columns)\n",
    "print(\"Lasso picked \" + str(sum(coef != 0)) + \" variables and eliminated the other \" +  str(sum(coef == 0)) + \" variables\")"
   ]
  },
  {
   "cell_type": "code",
   "execution_count": 17,
   "metadata": {
    "ExecuteTime": {
     "end_time": "2020-08-06T14:31:53.156608Z",
     "start_time": "2020-08-06T14:31:52.927053Z"
    }
   },
   "outputs": [
    {
     "data": {
      "text/plain": [
       "Text(0.5, 1.0, 'Coefficients in the Lasso Model')"
      ]
     },
     "execution_count": 17,
     "metadata": {},
     "output_type": "execute_result"
    },
    {
     "data": {
      "image/png": "[encoded data removed]",
      "text/plain": [
       "<Figure size 576x720 with 1 Axes>"
      ]
     },
     "metadata": {
      "needs_background": "light"
     },
     "output_type": "display_data"
    }
   ],
   "source": [
    "imp_coef = pd.concat([coef.sort_values().head(8),\n",
    "                     coef.sort_values().tail(8)])\n",
    "matplotlib.rcParams['figure.figsize'] = (8.0, 10.0)\n",
    "imp_coef.plot(kind = \"barh\")\n",
    "plt.title(\"Coefficients in the Lasso Model\")\n"
   ]
  },
  {
   "cell_type": "code",
   "execution_count": 18,
   "metadata": {
    "ExecuteTime": {
     "end_time": "2020-08-06T14:31:53.183129Z",
     "start_time": "2020-08-06T14:31:53.158770Z"
    }
   },
   "outputs": [
    {
     "data": {
      "text/html": [
       "<div>\n",
       "<style scoped>\n",
       "    .dataframe tbody tr th:only-of-type {\n",
       "        vertical-align: middle;\n",
       "    }\n",
       "\n",
       "    .dataframe tbody tr th {\n",
       "        vertical-align: top;\n",
       "    }\n",
       "\n",
       "    .dataframe thead th {\n",
       "        text-align: right;\n",
       "    }\n",
       "</style>\n",
       "<table border=\"1\" class=\"dataframe\">\n",
       "  <thead>\n",
       "    <tr style=\"text-align: right;\">\n",
       "      <th></th>\n",
       "      <th>TEAM_NAME</th>\n",
       "      <th>PRED_WIN_PCT</th>\n",
       "      <th>WIN_PCT</th>\n",
       "    </tr>\n",
       "  </thead>\n",
       "  <tbody>\n",
       "    <tr>\n",
       "      <th>276</th>\n",
       "      <td>Warriors</td>\n",
       "      <td>0.676453</td>\n",
       "      <td>0.231</td>\n",
       "    </tr>\n",
       "    <tr>\n",
       "      <th>456</th>\n",
       "      <td>Bucks</td>\n",
       "      <td>0.670569</td>\n",
       "      <td>0.794</td>\n",
       "    </tr>\n",
       "    <tr>\n",
       "      <th>876</th>\n",
       "      <td>Raptors</td>\n",
       "      <td>0.659872</td>\n",
       "      <td>0.731</td>\n",
       "    </tr>\n",
       "    <tr>\n",
       "      <th>740</th>\n",
       "      <td>Trail Blazers</td>\n",
       "      <td>0.605172</td>\n",
       "      <td>0.449</td>\n",
       "    </tr>\n",
       "    <tr>\n",
       "      <th>666</th>\n",
       "      <td>76ers</td>\n",
       "      <td>0.600341</td>\n",
       "      <td>0.603</td>\n",
       "    </tr>\n",
       "    <tr>\n",
       "      <th>239</th>\n",
       "      <td>Nuggets</td>\n",
       "      <td>0.589173</td>\n",
       "      <td>0.662</td>\n",
       "    </tr>\n",
       "    <tr>\n",
       "      <th>913</th>\n",
       "      <td>Jazz</td>\n",
       "      <td>0.575367</td>\n",
       "      <td>0.632</td>\n",
       "    </tr>\n",
       "    <tr>\n",
       "      <th>313</th>\n",
       "      <td>Rockets</td>\n",
       "      <td>0.573460</td>\n",
       "      <td>0.627</td>\n",
       "    </tr>\n",
       "    <tr>\n",
       "      <th>73</th>\n",
       "      <td>Celtics</td>\n",
       "      <td>0.562466</td>\n",
       "      <td>0.662</td>\n",
       "    </tr>\n",
       "    <tr>\n",
       "      <th>350</th>\n",
       "      <td>Clippers</td>\n",
       "      <td>0.558165</td>\n",
       "      <td>0.672</td>\n",
       "    </tr>\n",
       "    <tr>\n",
       "      <th>851</th>\n",
       "      <td>Thunder</td>\n",
       "      <td>0.549585</td>\n",
       "      <td>0.627</td>\n",
       "    </tr>\n",
       "    <tr>\n",
       "      <th>814</th>\n",
       "      <td>Spurs</td>\n",
       "      <td>0.545543</td>\n",
       "      <td>0.433</td>\n",
       "    </tr>\n",
       "    <tr>\n",
       "      <th>629</th>\n",
       "      <td>Pacers</td>\n",
       "      <td>0.540745</td>\n",
       "      <td>0.618</td>\n",
       "    </tr>\n",
       "    <tr>\n",
       "      <th>592</th>\n",
       "      <td>Magic</td>\n",
       "      <td>0.490803</td>\n",
       "      <td>0.464</td>\n",
       "    </tr>\n",
       "    <tr>\n",
       "      <th>524</th>\n",
       "      <td>Nets</td>\n",
       "      <td>0.480775</td>\n",
       "      <td>0.471</td>\n",
       "    </tr>\n",
       "    <tr>\n",
       "      <th>419</th>\n",
       "      <td>Heat</td>\n",
       "      <td>0.466995</td>\n",
       "      <td>0.632</td>\n",
       "    </tr>\n",
       "    <tr>\n",
       "      <th>777</th>\n",
       "      <td>Kings</td>\n",
       "      <td>0.466466</td>\n",
       "      <td>0.418</td>\n",
       "    </tr>\n",
       "    <tr>\n",
       "      <th>1012</th>\n",
       "      <td>Pistons</td>\n",
       "      <td>0.462946</td>\n",
       "      <td>0.303</td>\n",
       "    </tr>\n",
       "    <tr>\n",
       "      <th>387</th>\n",
       "      <td>Lakers</td>\n",
       "      <td>0.459616</td>\n",
       "      <td>0.761</td>\n",
       "    </tr>\n",
       "    <tr>\n",
       "      <th>128</th>\n",
       "      <td>Pelicans</td>\n",
       "      <td>0.453821</td>\n",
       "      <td>0.433</td>\n",
       "    </tr>\n",
       "    <tr>\n",
       "      <th>1042</th>\n",
       "      <td>Hornets</td>\n",
       "      <td>0.452368</td>\n",
       "      <td>0.354</td>\n",
       "    </tr>\n",
       "    <tr>\n",
       "      <th>487</th>\n",
       "      <td>Timberwolves</td>\n",
       "      <td>0.450681</td>\n",
       "      <td>0.297</td>\n",
       "    </tr>\n",
       "    <tr>\n",
       "      <th>938</th>\n",
       "      <td>Grizzlies</td>\n",
       "      <td>0.432052</td>\n",
       "      <td>0.464</td>\n",
       "    </tr>\n",
       "    <tr>\n",
       "      <th>975</th>\n",
       "      <td>Wizards</td>\n",
       "      <td>0.421909</td>\n",
       "      <td>0.353</td>\n",
       "    </tr>\n",
       "    <tr>\n",
       "      <th>202</th>\n",
       "      <td>Mavericks</td>\n",
       "      <td>0.417301</td>\n",
       "      <td>0.586</td>\n",
       "    </tr>\n",
       "    <tr>\n",
       "      <th>36</th>\n",
       "      <td>Hawks</td>\n",
       "      <td>0.407918</td>\n",
       "      <td>0.299</td>\n",
       "    </tr>\n",
       "    <tr>\n",
       "      <th>165</th>\n",
       "      <td>Bulls</td>\n",
       "      <td>0.345645</td>\n",
       "      <td>0.338</td>\n",
       "    </tr>\n",
       "    <tr>\n",
       "      <th>703</th>\n",
       "      <td>Suns</td>\n",
       "      <td>0.340971</td>\n",
       "      <td>0.426</td>\n",
       "    </tr>\n",
       "    <tr>\n",
       "      <th>561</th>\n",
       "      <td>Knicks</td>\n",
       "      <td>0.313192</td>\n",
       "      <td>0.318</td>\n",
       "    </tr>\n",
       "    <tr>\n",
       "      <th>110</th>\n",
       "      <td>Cavaliers</td>\n",
       "      <td>0.301807</td>\n",
       "      <td>0.292</td>\n",
       "    </tr>\n",
       "  </tbody>\n",
       "</table>\n",
       "</div>"
      ],
      "text/plain": [
       "          TEAM_NAME  PRED_WIN_PCT  WIN_PCT\n",
       "276        Warriors      0.676453    0.231\n",
       "456           Bucks      0.670569    0.794\n",
       "876         Raptors      0.659872    0.731\n",
       "740   Trail Blazers      0.605172    0.449\n",
       "666           76ers      0.600341    0.603\n",
       "239         Nuggets      0.589173    0.662\n",
       "913            Jazz      0.575367    0.632\n",
       "313         Rockets      0.573460    0.627\n",
       "73          Celtics      0.562466    0.662\n",
       "350        Clippers      0.558165    0.672\n",
       "851         Thunder      0.549585    0.627\n",
       "814           Spurs      0.545543    0.433\n",
       "629          Pacers      0.540745    0.618\n",
       "592           Magic      0.490803    0.464\n",
       "524            Nets      0.480775    0.471\n",
       "419            Heat      0.466995    0.632\n",
       "777           Kings      0.466466    0.418\n",
       "1012        Pistons      0.462946    0.303\n",
       "387          Lakers      0.459616    0.761\n",
       "128        Pelicans      0.453821    0.433\n",
       "1042        Hornets      0.452368    0.354\n",
       "487    Timberwolves      0.450681    0.297\n",
       "938       Grizzlies      0.432052    0.464\n",
       "975         Wizards      0.421909    0.353\n",
       "202       Mavericks      0.417301    0.586\n",
       "36            Hawks      0.407918    0.299\n",
       "165           Bulls      0.345645    0.338\n",
       "703            Suns      0.340971    0.426\n",
       "561          Knicks      0.313192    0.318\n",
       "110       Cavaliers      0.301807    0.292"
      ]
     },
     "execution_count": 18,
     "metadata": {},
     "output_type": "execute_result"
    }
   ],
   "source": [
    "# Predict season standing with this\n",
    "def predict_season_standing(model, df):\n",
    "    win_pct = model.predict(df[features])\n",
    "    df[\"PRED_WIN_PCT\"] = win_pct\n",
    "predict_season_standing(lasso, season_2019_df)\n",
    "season_2019_df.sort_values(\"PRED_WIN_PCT\", ascending=False)[[\"TEAM_NAME\",\"PRED_WIN_PCT\", \"WIN_PCT\"]].head(30)"
   ]
  },
  {
   "cell_type": "markdown",
   "metadata": {},
   "source": [
    "Prevvious years winning percentage is by far the most important feature, whihc makes sense. Almost all the important features are correlated with this. What needs to be added to the model is what happens in the offseason, which new players were added etc."
   ]
  },
  {
   "cell_type": "code",
   "execution_count": 19,
   "metadata": {
    "ExecuteTime": {
     "end_time": "2020-08-06T14:31:53.201375Z",
     "start_time": "2020-08-06T14:31:53.185316Z"
    }
   },
   "outputs": [
    {
     "data": {
      "text/plain": [
       "'\\n# Load all player statistiscs\\n\\n\\nplayer_stats = []\\nall_players = players.get_players()\\nfor player in all_players:\\n    id = player[\\'id\\']\\n    player_stats.append(playercareerstats.PlayerCareerStats(player_id=id).get_data_frames()[0])\\nplayer_stats\\n\\nplayer_df = pd.concat(player_stats)\\n# save as csv to not have to load again\\nplayer_df.to_csv(\"/home/lars/Dokumente/projects/Coursera_Capstone/players.csv\")\\n'"
      ]
     },
     "execution_count": 19,
     "metadata": {},
     "output_type": "execute_result"
    }
   ],
   "source": [
    "\"\"\"\n",
    "# Load all player statistiscs\n",
    "\n",
    "\n",
    "player_stats = []\n",
    "all_players = players.get_players()\n",
    "for player in all_players:\n",
    "    id = player['id']\n",
    "    player_stats.append(playercareerstats.PlayerCareerStats(player_id=id).get_data_frames()[0])\n",
    "player_stats\n",
    "\n",
    "player_df = pd.concat(player_stats)\n",
    "# save as csv to not have to load again\n",
    "player_df.to_csv(\"/home/lars/Dokumente/projects/Coursera_Capstone/players.csv\")\n",
    "\"\"\""
   ]
  },
  {
   "cell_type": "code",
   "execution_count": 71,
   "metadata": {
    "ExecuteTime": {
     "end_time": "2020-08-06T14:46:16.665725Z",
     "start_time": "2020-08-06T14:46:16.567351Z"
    }
   },
   "outputs": [
    {
     "name": "stdout",
     "output_type": "stream",
     "text": [
      "<class 'pandas.core.frame.DataFrame'>\n",
      "RangeIndex: 26968 entries, 0 to 26967\n",
      "Data columns (total 28 columns):\n",
      " #   Column             Non-Null Count  Dtype  \n",
      "---  ------             --------------  -----  \n",
      " 0   Unnamed: 0         26968 non-null  int64  \n",
      " 1   PLAYER_ID          26968 non-null  int64  \n",
      " 2   SEASON_ID          26968 non-null  object \n",
      " 3   LEAGUE_ID          26968 non-null  int64  \n",
      " 4   TEAM_ID            26968 non-null  int64  \n",
      " 5   TEAM_ABBREVIATION  26959 non-null  object \n",
      " 6   PLAYER_AGE         26968 non-null  float64\n",
      " 7   GP                 26968 non-null  int64  \n",
      " 8   GS                 20486 non-null  float64\n",
      " 9   MIN                26199 non-null  float64\n",
      " 10  FGM                26968 non-null  int64  \n",
      " 11  FGA                26968 non-null  int64  \n",
      " 12  FG_PCT             26954 non-null  float64\n",
      " 13  FG3M               20935 non-null  float64\n",
      " 14  FG3A               20935 non-null  float64\n",
      " 15  FG3_PCT            20713 non-null  float64\n",
      " 16  FTM                26968 non-null  int64  \n",
      " 17  FTA                26968 non-null  int64  \n",
      " 18  FT_PCT             26849 non-null  float64\n",
      " 19  OREB               22805 non-null  float64\n",
      " 20  DREB               22805 non-null  float64\n",
      " 21  REB                26311 non-null  float64\n",
      " 22  AST                26968 non-null  int64  \n",
      " 23  STL                22805 non-null  float64\n",
      " 24  BLK                22805 non-null  float64\n",
      " 25  TOV                21653 non-null  float64\n",
      " 26  PF                 26968 non-null  int64  \n",
      " 27  PTS                26968 non-null  int64  \n",
      "dtypes: float64(14), int64(12), object(2)\n",
      "memory usage: 5.8+ MB\n"
     ]
    }
   ],
   "source": [
    "player_df = pd.read_csv(\"/home/lars/Dokumente/projects/Coursera_Capstone/players.csv\")\n",
    "player_df.info()"
   ]
  },
  {
   "cell_type": "code",
   "execution_count": 72,
   "metadata": {
    "ExecuteTime": {
     "end_time": "2020-08-06T14:46:18.836796Z",
     "start_time": "2020-08-06T14:46:18.830674Z"
    }
   },
   "outputs": [],
   "source": [
    "drop_columns = [\"TEAM_ABBREVIATION\", \"PLAYER_AGE\", \"Unnamed: 0\", \"LEAGUE_ID\", \"FG_PCT\", \"FG3_PCT\", \"FT_PCT\", \"TEAM_ID\"]\n",
    "player_df.drop(drop_columns, axis=1, inplace=True)"
   ]
  },
  {
   "cell_type": "code",
   "execution_count": 73,
   "metadata": {
    "ExecuteTime": {
     "end_time": "2020-08-06T14:46:20.866562Z",
     "start_time": "2020-08-06T14:46:20.862743Z"
    }
   },
   "outputs": [
    {
     "data": {
      "text/plain": [
       "Index(['PLAYER_ID', 'SEASON_ID', 'GP', 'GS', 'MIN', 'FGM', 'FGA', 'FG3M',\n",
       "       'FG3A', 'FTM', 'FTA', 'OREB', 'DREB', 'REB', 'AST', 'STL', 'BLK', 'TOV',\n",
       "       'PF', 'PTS'],\n",
       "      dtype='object')"
      ]
     },
     "execution_count": 73,
     "metadata": {},
     "output_type": "execute_result"
    }
   ],
   "source": [
    "player_df.columns"
   ]
  },
  {
   "cell_type": "code",
   "execution_count": 74,
   "metadata": {
    "ExecuteTime": {
     "end_time": "2020-08-06T14:46:23.044328Z",
     "start_time": "2020-08-06T14:46:23.031482Z"
    }
   },
   "outputs": [],
   "source": [
    "player_df = player_df[player_df[\"SEASON_ID\"]>\"1982-83\"]"
   ]
  },
  {
   "cell_type": "code",
   "execution_count": 75,
   "metadata": {
    "ExecuteTime": {
     "end_time": "2020-08-06T14:46:25.088911Z",
     "start_time": "2020-08-06T14:46:25.077977Z"
    }
   },
   "outputs": [
    {
     "data": {
      "text/plain": [
       "PLAYER_ID    0\n",
       "SEASON_ID    0\n",
       "GP           0\n",
       "GS           0\n",
       "MIN          0\n",
       "FGM          0\n",
       "FGA          0\n",
       "FG3M         0\n",
       "FG3A         0\n",
       "FTM          0\n",
       "FTA          0\n",
       "OREB         0\n",
       "DREB         0\n",
       "REB          0\n",
       "AST          0\n",
       "STL          0\n",
       "BLK          0\n",
       "TOV          0\n",
       "PF           0\n",
       "PTS          0\n",
       "dtype: int64"
      ]
     },
     "execution_count": 75,
     "metadata": {},
     "output_type": "execute_result"
    }
   ],
   "source": [
    "player_df.fillna(0, inplace=True)\n",
    "player_df.isnull().sum()"
   ]
  },
  {
   "cell_type": "code",
   "execution_count": 109,
   "metadata": {
    "ExecuteTime": {
     "end_time": "2020-08-06T17:01:53.570271Z",
     "start_time": "2020-08-06T17:01:53.513082Z"
    }
   },
   "outputs": [
    {
     "data": {
      "text/html": [
       "<div>\n",
       "<style scoped>\n",
       "    .dataframe tbody tr th:only-of-type {\n",
       "        vertical-align: middle;\n",
       "    }\n",
       "\n",
       "    .dataframe tbody tr th {\n",
       "        vertical-align: top;\n",
       "    }\n",
       "\n",
       "    .dataframe thead th {\n",
       "        text-align: right;\n",
       "    }\n",
       "</style>\n",
       "<table border=\"1\" class=\"dataframe\">\n",
       "  <thead>\n",
       "    <tr style=\"text-align: right;\">\n",
       "      <th></th>\n",
       "      <th>TEAM_ID</th>\n",
       "      <th>TEAM_CITY</th>\n",
       "      <th>TEAM_NAME</th>\n",
       "      <th>YEAR</th>\n",
       "      <th>WIN_PCT</th>\n",
       "      <th>GP</th>\n",
       "      <th>PREV_YEAR</th>\n",
       "      <th>PREV_WIN_PCT</th>\n",
       "      <th>PO_WINS</th>\n",
       "      <th>PO_LOSSES</th>\n",
       "      <th>...</th>\n",
       "      <th>REB</th>\n",
       "      <th>AST</th>\n",
       "      <th>PF</th>\n",
       "      <th>STL</th>\n",
       "      <th>TOV</th>\n",
       "      <th>BLK</th>\n",
       "      <th>PTS</th>\n",
       "      <th>PTS_RANK</th>\n",
       "      <th>WON</th>\n",
       "      <th>PO_GAMES</th>\n",
       "    </tr>\n",
       "  </thead>\n",
       "  <tbody>\n",
       "    <tr>\n",
       "      <th>1</th>\n",
       "      <td>1610612737</td>\n",
       "      <td>Atlanta</td>\n",
       "      <td>Hawks</td>\n",
       "      <td>1984-85</td>\n",
       "      <td>0.415</td>\n",
       "      <td>82</td>\n",
       "      <td>1983-84</td>\n",
       "      <td>0.488</td>\n",
       "      <td>2.0</td>\n",
       "      <td>3.0</td>\n",
       "      <td>...</td>\n",
       "      <td>3344.0</td>\n",
       "      <td>1827.0</td>\n",
       "      <td>2091.0</td>\n",
       "      <td>626.0</td>\n",
       "      <td>1329.0</td>\n",
       "      <td>558.0</td>\n",
       "      <td>8321.0</td>\n",
       "      <td>23.0</td>\n",
       "      <td>0</td>\n",
       "      <td>5.0</td>\n",
       "    </tr>\n",
       "    <tr>\n",
       "      <th>2</th>\n",
       "      <td>1610612737</td>\n",
       "      <td>Atlanta</td>\n",
       "      <td>Hawks</td>\n",
       "      <td>1985-86</td>\n",
       "      <td>0.610</td>\n",
       "      <td>82</td>\n",
       "      <td>1984-85</td>\n",
       "      <td>0.415</td>\n",
       "      <td>0.0</td>\n",
       "      <td>0.0</td>\n",
       "      <td>...</td>\n",
       "      <td>3506.0</td>\n",
       "      <td>2009.0</td>\n",
       "      <td>2047.0</td>\n",
       "      <td>665.0</td>\n",
       "      <td>1475.0</td>\n",
       "      <td>541.0</td>\n",
       "      <td>8743.0</td>\n",
       "      <td>20.0</td>\n",
       "      <td>0</td>\n",
       "      <td>0.0</td>\n",
       "    </tr>\n",
       "    <tr>\n",
       "      <th>3</th>\n",
       "      <td>1610612737</td>\n",
       "      <td>Atlanta</td>\n",
       "      <td>Hawks</td>\n",
       "      <td>1986-87</td>\n",
       "      <td>0.695</td>\n",
       "      <td>82</td>\n",
       "      <td>1985-86</td>\n",
       "      <td>0.610</td>\n",
       "      <td>4.0</td>\n",
       "      <td>5.0</td>\n",
       "      <td>...</td>\n",
       "      <td>3654.0</td>\n",
       "      <td>2025.0</td>\n",
       "      <td>2170.0</td>\n",
       "      <td>736.0</td>\n",
       "      <td>1483.0</td>\n",
       "      <td>434.0</td>\n",
       "      <td>8906.0</td>\n",
       "      <td>17.0</td>\n",
       "      <td>0</td>\n",
       "      <td>9.0</td>\n",
       "    </tr>\n",
       "    <tr>\n",
       "      <th>4</th>\n",
       "      <td>1610612737</td>\n",
       "      <td>Atlanta</td>\n",
       "      <td>Hawks</td>\n",
       "      <td>1987-88</td>\n",
       "      <td>0.610</td>\n",
       "      <td>82</td>\n",
       "      <td>1986-87</td>\n",
       "      <td>0.695</td>\n",
       "      <td>4.0</td>\n",
       "      <td>5.0</td>\n",
       "      <td>...</td>\n",
       "      <td>3828.0</td>\n",
       "      <td>2077.0</td>\n",
       "      <td>2152.0</td>\n",
       "      <td>700.0</td>\n",
       "      <td>1279.0</td>\n",
       "      <td>511.0</td>\n",
       "      <td>9024.0</td>\n",
       "      <td>12.0</td>\n",
       "      <td>0</td>\n",
       "      <td>9.0</td>\n",
       "    </tr>\n",
       "    <tr>\n",
       "      <th>5</th>\n",
       "      <td>1610612737</td>\n",
       "      <td>Atlanta</td>\n",
       "      <td>Hawks</td>\n",
       "      <td>1988-89</td>\n",
       "      <td>0.634</td>\n",
       "      <td>82</td>\n",
       "      <td>1987-88</td>\n",
       "      <td>0.610</td>\n",
       "      <td>6.0</td>\n",
       "      <td>6.0</td>\n",
       "      <td>...</td>\n",
       "      <td>3607.0</td>\n",
       "      <td>2062.0</td>\n",
       "      <td>2050.0</td>\n",
       "      <td>635.0</td>\n",
       "      <td>1225.0</td>\n",
       "      <td>537.0</td>\n",
       "      <td>8844.0</td>\n",
       "      <td>13.0</td>\n",
       "      <td>0</td>\n",
       "      <td>12.0</td>\n",
       "    </tr>\n",
       "  </tbody>\n",
       "</table>\n",
       "<p>5 rows × 32 columns</p>\n",
       "</div>"
      ],
      "text/plain": [
       "      TEAM_ID TEAM_CITY TEAM_NAME     YEAR  WIN_PCT  GP PREV_YEAR  \\\n",
       "1  1610612737   Atlanta     Hawks  1984-85    0.415  82   1983-84   \n",
       "2  1610612737   Atlanta     Hawks  1985-86    0.610  82   1984-85   \n",
       "3  1610612737   Atlanta     Hawks  1986-87    0.695  82   1985-86   \n",
       "4  1610612737   Atlanta     Hawks  1987-88    0.610  82   1986-87   \n",
       "5  1610612737   Atlanta     Hawks  1988-89    0.634  82   1987-88   \n",
       "\n",
       "   PREV_WIN_PCT  PO_WINS  PO_LOSSES  ...     REB     AST      PF    STL  \\\n",
       "1         0.488      2.0        3.0  ...  3344.0  1827.0  2091.0  626.0   \n",
       "2         0.415      0.0        0.0  ...  3506.0  2009.0  2047.0  665.0   \n",
       "3         0.610      4.0        5.0  ...  3654.0  2025.0  2170.0  736.0   \n",
       "4         0.695      4.0        5.0  ...  3828.0  2077.0  2152.0  700.0   \n",
       "5         0.610      6.0        6.0  ...  3607.0  2062.0  2050.0  635.0   \n",
       "\n",
       "      TOV    BLK     PTS  PTS_RANK  WON  PO_GAMES  \n",
       "1  1329.0  558.0  8321.0      23.0    0       5.0  \n",
       "2  1475.0  541.0  8743.0      20.0    0       0.0  \n",
       "3  1483.0  434.0  8906.0      17.0    0       9.0  \n",
       "4  1279.0  511.0  9024.0      12.0    0       9.0  \n",
       "5  1225.0  537.0  8844.0      13.0    0      12.0  \n",
       "\n",
       "[5 rows x 32 columns]"
      ]
     },
     "execution_count": 109,
     "metadata": {},
     "output_type": "execute_result"
    }
   ],
   "source": [
    "# If changed team during season, take tot value\n",
    "new_df = player_df.groupby([\"PLAYER_ID\", \"SEASON_ID\"], as_index=False).max()\n",
    "new_df.columns"
   ]
  },
  {
   "cell_type": "code",
   "execution_count": null,
   "metadata": {
    "ExecuteTime": {
     "start_time": "2020-08-06T19:11:14.295Z"
    }
   },
   "outputs": [],
   "source": [
    "# Get for each year and team the summed stats of the previous year performance of the players\n",
    "features = ['FGM', 'FGA', 'FG3M',\n",
    "       'FG3A', 'FTM', 'FTA', 'OREB', 'DREB', 'REB', 'AST', 'STL', 'BLK', 'TOV',\n",
    "       'PF', 'PTS']\n",
    "for index, row in before_season_df.iterrows():\n",
    "    season = row[\"YEAR\"]\n",
    "    prev_season = row[\"PREV_YEAR\"]\n",
    "    team_id = row[\"TEAM_ID\"]\n",
    "    players = commonteamroster.CommonTeamRoster(team_id=team_id, season=season).get_data_frames()[0][\"PLAYER_ID\"]\n",
    "    summed_stats = pd.DataFrame(new_df[(new_df[\"PLAYER_ID\"].isin(players)) & (new_df[\"SEASON_ID\"]==prev_season)][features].sum(axis=0)).transpose()\n",
    "    before_season_df.loc[(before_season_df[\"YEAR\"]==season)&(before_season_df[\"TEAM_ID\"]==team_id), features] = summed_stats.copy()\n",
    "\n",
    "before_season_df.head()"
   ]
  },
  {
   "cell_type": "code",
   "execution_count": 124,
   "metadata": {
    "ExecuteTime": {
     "end_time": "2020-08-06T19:10:09.439533Z",
     "start_time": "2020-08-06T19:10:09.342677Z"
    }
   },
   "outputs": [
    {
     "name": "stdout",
     "output_type": "stream",
     "text": [
      "RMSE Linear Regression:  0.115\n"
     ]
    }
   ],
   "source": [
    "features = ['GP','PO_GAMES', 'NBA_FINALS_APPEARANCE', \"WON\",'FGM', 'FGA', 'FG3M',\n",
    "       'FG3A', 'FTM', 'FTA', 'OREB', 'DREB', 'REB', 'AST', 'STL', 'BLK', 'TOV',\n",
    "       'PF', 'PTS', \"PREV_WIN_PCT\"]\n",
    "X = before_season_df[features]\n",
    "Y = before_season_df[\"WIN_PCT\"]\n",
    "\n",
    "def cv(model):\n",
    "    return np.sqrt(-cross_val_score(model, X, Y, scoring=\"neg_mean_squared_error\", cv=5))\n",
    "\n",
    "# Simple Linear Regression\n",
    "#lr = make_pipeline(RobustScaler(), LinearRegression())\n",
    "lr = make_pipeline(RobustScaler(), Ridge(10))\n",
    "scores = np.sqrt(-cross_val_score(lr, X, Y, scoring=\"neg_mean_squared_error\", cv=5))\n",
    "lr.fit(X,Y)\n",
    "print(\"RMSE Linear Regression: \", round(scores.mean(),3))"
   ]
  },
  {
   "cell_type": "code",
   "execution_count": null,
   "metadata": {
    "ExecuteTime": {
     "end_time": "2020-08-06T14:31:53.552282Z",
     "start_time": "2020-08-06T14:31:27.514Z"
    }
   },
   "outputs": [],
   "source": [
    "player_stats = playercareerstats.PlayerCareerStats(player_id=\"201952\").get_data_frames()\n",
    "# 0 - regular season\n",
    "# 2 - post season\n",
    "print(player_stats[0].columns)\n",
    "player_stats[0]"
   ]
  },
  {
   "cell_type": "code",
   "execution_count": null,
   "metadata": {},
   "outputs": [],
   "source": []
  },
  {
   "cell_type": "markdown",
   "metadata": {},
   "source": [
    "## New heading"
   ]
  }
 ],
 "metadata": {
  "hide_input": false,
  "kernelspec": {
   "display_name": "Python 3",
   "language": "python",
   "name": "python3"
  },
  "language_info": {
   "codemirror_mode": {
    "name": "ipython",
    "version": 3
   },
   "file_extension": ".py",
   "mimetype": "text/x-python",
   "name": "python",
   "nbconvert_exporter": "python",
   "pygments_lexer": "ipython3",
   "version": "3.7.6"
  },
  "varInspector": {
   "cols": {
    "lenName": 16,
    "lenType": 16,
    "lenVar": 40
   },
   "kernels_config": {
    "python": {
     "delete_cmd_postfix": "",
     "delete_cmd_prefix": "del ",
     "library": "var_list.py",
     "varRefreshCmd": "print(var_dic_list())"
    },
    "r": {
     "delete_cmd_postfix": ") ",
     "delete_cmd_prefix": "rm(",
     "library": "var_list.r",
     "varRefreshCmd": "cat(var_dic_list()) "
    }
   },
   "types_to_exclude": [
    "module",
    "function",
    "builtin_function_or_method",
    "instance",
    "_Feature"
   ],
   "window_display": false
  }
 },
 "nbformat": 4,
 "nbformat_minor": 4
}
